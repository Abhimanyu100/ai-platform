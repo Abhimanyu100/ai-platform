{
 "cells": [
  {
   "cell_type": "markdown",
   "metadata": {},
   "source": [
    "**Import library for ML project**"
   ]
  },
  {
   "cell_type": "code",
   "execution_count": 46,
   "metadata": {},
   "outputs": [],
   "source": [
    "\n",
    "\n",
    "# Machine learning library and packages\n",
    "\n",
    "from sklearn.model_selection import train_test_split\n",
    "from sklearn.metrics import accuracy_score\n",
    "from sklearn.metrics import precision_score\n",
    "from sklearn import linear_model\n",
    "import pandas as pd\n",
    "import numpy as np\n",
    "import matplotlib.pyplot as plt\n",
    "import seaborn as sns\n",
    "import nltk\n",
    "from nltk.corpus import stopwords\n",
    "import string\n",
    "import math\n",
    "from sklearn.feature_extraction.text import CountVectorizer\n",
    "from sklearn.model_selection import train_test_split, cross_val_score\n",
    "from sklearn.metrics import classification_report\n",
    "from sklearn.metrics import confusion_matrix, accuracy_score, roc_auc_score, roc_curve\n",
    "from sklearn.grid_search import GridSearchCV\n",
    "%matplotlib inline"
   ]
  },
  {
   "cell_type": "markdown",
   "metadata": {},
   "source": [
    "**Read Data**"
   ]
  },
  {
   "cell_type": "code",
   "execution_count": 48,
   "metadata": {},
   "outputs": [
    {
     "name": "stdout",
     "output_type": "stream",
     "text": [
      "Column are:  Index(['business_id', 'date', 'review_id', 'stars', 'text', 'type', 'user_id',\n",
      "       'cool', 'useful', 'funny'],\n",
      "      dtype='object')\n",
      "Shape of dataset:  (10000, 10)\n"
     ]
    },
    {
     "data": {
      "text/html": [
       "<div>\n",
       "<style scoped>\n",
       "    .dataframe tbody tr th:only-of-type {\n",
       "        vertical-align: middle;\n",
       "    }\n",
       "\n",
       "    .dataframe tbody tr th {\n",
       "        vertical-align: top;\n",
       "    }\n",
       "\n",
       "    .dataframe thead th {\n",
       "        text-align: right;\n",
       "    }\n",
       "</style>\n",
       "<table border=\"1\" class=\"dataframe\">\n",
       "  <thead>\n",
       "    <tr style=\"text-align: right;\">\n",
       "      <th></th>\n",
       "      <th>business_id</th>\n",
       "      <th>date</th>\n",
       "      <th>review_id</th>\n",
       "      <th>stars</th>\n",
       "      <th>text</th>\n",
       "      <th>type</th>\n",
       "      <th>user_id</th>\n",
       "      <th>cool</th>\n",
       "      <th>useful</th>\n",
       "      <th>funny</th>\n",
       "    </tr>\n",
       "  </thead>\n",
       "  <tbody>\n",
       "    <tr>\n",
       "      <th>0</th>\n",
       "      <td>9yKzy9PApeiPPOUJEtnvkg</td>\n",
       "      <td>26-01-2011</td>\n",
       "      <td>fWKvX83p0-ka4JS3dc6E5A</td>\n",
       "      <td>5</td>\n",
       "      <td>My wife took me here on my birthday for breakf...</td>\n",
       "      <td>review</td>\n",
       "      <td>rLtl8ZkDX5vH5nAx9C3q5Q</td>\n",
       "      <td>2</td>\n",
       "      <td>5</td>\n",
       "      <td>0</td>\n",
       "    </tr>\n",
       "    <tr>\n",
       "      <th>1</th>\n",
       "      <td>ZRJwVLyzEJq1VAihDhYiow</td>\n",
       "      <td>27-07-2011</td>\n",
       "      <td>IjZ33sJrzXqU-0X6U8NwyA</td>\n",
       "      <td>5</td>\n",
       "      <td>I have no idea why some people give bad review...</td>\n",
       "      <td>review</td>\n",
       "      <td>0a2KyEL0d3Yb1V6aivbIuQ</td>\n",
       "      <td>0</td>\n",
       "      <td>0</td>\n",
       "      <td>0</td>\n",
       "    </tr>\n",
       "    <tr>\n",
       "      <th>2</th>\n",
       "      <td>6oRAC4uyJCsJl1X0WZpVSA</td>\n",
       "      <td>14-06-2012</td>\n",
       "      <td>IESLBzqUCLdSzSqm0eCSxQ</td>\n",
       "      <td>4</td>\n",
       "      <td>love the gyro plate. Rice is so good and I als...</td>\n",
       "      <td>review</td>\n",
       "      <td>0hT2KtfLiobPvh6cDC8JQg</td>\n",
       "      <td>0</td>\n",
       "      <td>1</td>\n",
       "      <td>0</td>\n",
       "    </tr>\n",
       "    <tr>\n",
       "      <th>3</th>\n",
       "      <td>_1QQZuf4zZOyFCvXc0o6Vg</td>\n",
       "      <td>27-05-2010</td>\n",
       "      <td>G-WvGaISbqqaMHlNnByodA</td>\n",
       "      <td>5</td>\n",
       "      <td>Rosie, Dakota, and I LOVE Chaparral Dog Park!!...</td>\n",
       "      <td>review</td>\n",
       "      <td>uZetl9T0NcROGOyFfughhg</td>\n",
       "      <td>1</td>\n",
       "      <td>2</td>\n",
       "      <td>0</td>\n",
       "    </tr>\n",
       "    <tr>\n",
       "      <th>4</th>\n",
       "      <td>6ozycU1RpktNG2-1BroVtw</td>\n",
       "      <td>05-01-2012</td>\n",
       "      <td>1uJFq2r5QfJG_6ExMRCaGw</td>\n",
       "      <td>5</td>\n",
       "      <td>General Manager Scott Petello is a good egg!!!...</td>\n",
       "      <td>review</td>\n",
       "      <td>vYmM4KTsC8ZfQBg-j5MWkw</td>\n",
       "      <td>0</td>\n",
       "      <td>0</td>\n",
       "      <td>0</td>\n",
       "    </tr>\n",
       "  </tbody>\n",
       "</table>\n",
       "</div>"
      ],
      "text/plain": [
       "              business_id        date               review_id  stars  \\\n",
       "0  9yKzy9PApeiPPOUJEtnvkg  26-01-2011  fWKvX83p0-ka4JS3dc6E5A      5   \n",
       "1  ZRJwVLyzEJq1VAihDhYiow  27-07-2011  IjZ33sJrzXqU-0X6U8NwyA      5   \n",
       "2  6oRAC4uyJCsJl1X0WZpVSA  14-06-2012  IESLBzqUCLdSzSqm0eCSxQ      4   \n",
       "3  _1QQZuf4zZOyFCvXc0o6Vg  27-05-2010  G-WvGaISbqqaMHlNnByodA      5   \n",
       "4  6ozycU1RpktNG2-1BroVtw  05-01-2012  1uJFq2r5QfJG_6ExMRCaGw      5   \n",
       "\n",
       "                                                text    type  \\\n",
       "0  My wife took me here on my birthday for breakf...  review   \n",
       "1  I have no idea why some people give bad review...  review   \n",
       "2  love the gyro plate. Rice is so good and I als...  review   \n",
       "3  Rosie, Dakota, and I LOVE Chaparral Dog Park!!...  review   \n",
       "4  General Manager Scott Petello is a good egg!!!...  review   \n",
       "\n",
       "                  user_id  cool  useful  funny  \n",
       "0  rLtl8ZkDX5vH5nAx9C3q5Q     2       5      0  \n",
       "1  0a2KyEL0d3Yb1V6aivbIuQ     0       0      0  \n",
       "2  0hT2KtfLiobPvh6cDC8JQg     0       1      0  \n",
       "3  uZetl9T0NcROGOyFfughhg     1       2      0  \n",
       "4  vYmM4KTsC8ZfQBg-j5MWkw     0       0      0  "
      ]
     },
     "execution_count": 48,
     "metadata": {},
     "output_type": "execute_result"
    }
   ],
   "source": [
    "# Read yelp.csv data\n",
    "df = pd.read_csv('yelp.csv')\n",
    "\n",
    "#column name in data\n",
    "print(\"Column are: \", df.columns)\n",
    "\n",
    "# Shape of dataset\n",
    "print(\"Shape of dataset: \", df.shape) # (10000, 10). 10k rows and 10 columns\n",
    "\n",
    "# Initial few row of data\n",
    "df.head()"
   ]
  },
  {
   "cell_type": "code",
   "execution_count": 49,
   "metadata": {},
   "outputs": [],
   "source": [
    "# From my own understandng they hide business Id, review_id, user_id for privacy reason. And this three features...\n",
    "#..are not important for us"
   ]
  },
  {
   "cell_type": "markdown",
   "metadata": {},
   "source": [
    "**Basic EDA(Exploratory data analysis)**"
   ]
  },
  {
   "cell_type": "code",
   "execution_count": 50,
   "metadata": {},
   "outputs": [
    {
     "name": "stdout",
     "output_type": "stream",
     "text": [
      "               stars          cool        useful         funny\n",
      "count  10000.000000  10000.000000  10000.000000  10000.000000\n",
      "mean       3.777500      0.876800      1.409300      0.701300\n",
      "std        1.214636      2.067861      2.336647      1.907942\n",
      "min        1.000000      0.000000      0.000000      0.000000\n",
      "25%        3.000000      0.000000      0.000000      0.000000\n",
      "50%        4.000000      0.000000      1.000000      0.000000\n",
      "75%        5.000000      1.000000      2.000000      1.000000\n",
      "max        5.000000     77.000000     76.000000     57.000000\n",
      "<class 'pandas.core.frame.DataFrame'>\n",
      "RangeIndex: 10000 entries, 0 to 9999\n",
      "Data columns (total 10 columns):\n",
      "business_id    10000 non-null object\n",
      "date           10000 non-null object\n",
      "review_id      10000 non-null object\n",
      "stars          10000 non-null int64\n",
      "text           10000 non-null object\n",
      "type           10000 non-null object\n",
      "user_id        10000 non-null object\n",
      "cool           10000 non-null int64\n",
      "useful         10000 non-null int64\n",
      "funny          10000 non-null int64\n",
      "dtypes: int64(4), object(6)\n",
      "memory usage: 781.3+ KB\n",
      "Summary of df:  None\n"
     ]
    }
   ],
   "source": [
    "# Checking statistical details like percentile, mean, std etc. of a data frame df (that contains yelp.csv)\n",
    "print(\"\",df.describe())\n",
    "\n",
    "# Summary of dataframe\n",
    "print(\"Summary of df: \", df.info())"
   ]
  },
  {
   "cell_type": "code",
   "execution_count": 51,
   "metadata": {},
   "outputs": [
    {
     "data": {
      "text/html": [
       "<div>\n",
       "<style scoped>\n",
       "    .dataframe tbody tr th:only-of-type {\n",
       "        vertical-align: middle;\n",
       "    }\n",
       "\n",
       "    .dataframe tbody tr th {\n",
       "        vertical-align: top;\n",
       "    }\n",
       "\n",
       "    .dataframe thead th {\n",
       "        text-align: right;\n",
       "    }\n",
       "</style>\n",
       "<table border=\"1\" class=\"dataframe\">\n",
       "  <thead>\n",
       "    <tr style=\"text-align: right;\">\n",
       "      <th></th>\n",
       "      <th>business_id</th>\n",
       "      <th>date</th>\n",
       "      <th>review_id</th>\n",
       "      <th>stars</th>\n",
       "      <th>text</th>\n",
       "      <th>type</th>\n",
       "      <th>user_id</th>\n",
       "      <th>cool</th>\n",
       "      <th>useful</th>\n",
       "      <th>funny</th>\n",
       "      <th>Review Len</th>\n",
       "    </tr>\n",
       "  </thead>\n",
       "  <tbody>\n",
       "    <tr>\n",
       "      <th>0</th>\n",
       "      <td>9yKzy9PApeiPPOUJEtnvkg</td>\n",
       "      <td>26-01-2011</td>\n",
       "      <td>fWKvX83p0-ka4JS3dc6E5A</td>\n",
       "      <td>5</td>\n",
       "      <td>My wife took me here on my birthday for breakf...</td>\n",
       "      <td>review</td>\n",
       "      <td>rLtl8ZkDX5vH5nAx9C3q5Q</td>\n",
       "      <td>2</td>\n",
       "      <td>5</td>\n",
       "      <td>0</td>\n",
       "      <td>889</td>\n",
       "    </tr>\n",
       "    <tr>\n",
       "      <th>1</th>\n",
       "      <td>ZRJwVLyzEJq1VAihDhYiow</td>\n",
       "      <td>27-07-2011</td>\n",
       "      <td>IjZ33sJrzXqU-0X6U8NwyA</td>\n",
       "      <td>5</td>\n",
       "      <td>I have no idea why some people give bad review...</td>\n",
       "      <td>review</td>\n",
       "      <td>0a2KyEL0d3Yb1V6aivbIuQ</td>\n",
       "      <td>0</td>\n",
       "      <td>0</td>\n",
       "      <td>0</td>\n",
       "      <td>1345</td>\n",
       "    </tr>\n",
       "    <tr>\n",
       "      <th>2</th>\n",
       "      <td>6oRAC4uyJCsJl1X0WZpVSA</td>\n",
       "      <td>14-06-2012</td>\n",
       "      <td>IESLBzqUCLdSzSqm0eCSxQ</td>\n",
       "      <td>4</td>\n",
       "      <td>love the gyro plate. Rice is so good and I als...</td>\n",
       "      <td>review</td>\n",
       "      <td>0hT2KtfLiobPvh6cDC8JQg</td>\n",
       "      <td>0</td>\n",
       "      <td>1</td>\n",
       "      <td>0</td>\n",
       "      <td>76</td>\n",
       "    </tr>\n",
       "  </tbody>\n",
       "</table>\n",
       "</div>"
      ],
      "text/plain": [
       "              business_id        date               review_id  stars  \\\n",
       "0  9yKzy9PApeiPPOUJEtnvkg  26-01-2011  fWKvX83p0-ka4JS3dc6E5A      5   \n",
       "1  ZRJwVLyzEJq1VAihDhYiow  27-07-2011  IjZ33sJrzXqU-0X6U8NwyA      5   \n",
       "2  6oRAC4uyJCsJl1X0WZpVSA  14-06-2012  IESLBzqUCLdSzSqm0eCSxQ      4   \n",
       "\n",
       "                                                text    type  \\\n",
       "0  My wife took me here on my birthday for breakf...  review   \n",
       "1  I have no idea why some people give bad review...  review   \n",
       "2  love the gyro plate. Rice is so good and I als...  review   \n",
       "\n",
       "                  user_id  cool  useful  funny  Review Len  \n",
       "0  rLtl8ZkDX5vH5nAx9C3q5Q     2       5      0         889  \n",
       "1  0a2KyEL0d3Yb1V6aivbIuQ     0       0      0        1345  \n",
       "2  0hT2KtfLiobPvh6cDC8JQg     0       1      0          76  "
      ]
     },
     "execution_count": 51,
     "metadata": {},
     "output_type": "execute_result"
    }
   ],
   "source": [
    "# Checking length of each review. For that create a new column called \"Review Len\"\n",
    "df['Review Len'] = df['text'].apply(len)\n",
    "\n",
    "# Print initial dataset and we will \"Reviw Len\" column added as well. Print initial 3 row\n",
    "df.head(3)"
   ]
  },
  {
   "cell_type": "code",
   "execution_count": 71,
   "metadata": {},
   "outputs": [
    {
     "name": "stdout",
     "output_type": "stream",
     "text": [
      "stars\n",
      "1     749\n",
      "2     927\n",
      "3    1461\n",
      "4    3526\n",
      "5    3337\n",
      "dtype: int64\n",
      "Mean is:  3.7775\n",
      "Standard Deviation:  1.2146362764746714\n"
     ]
    }
   ],
   "source": [
    "# Class distribution of rating (in stars)\n",
    "class_count = df.groupby('stars').size()\n",
    "print(class_count)"
   ]
  },
  {
   "cell_type": "code",
   "execution_count": 73,
   "metadata": {},
   "outputs": [
    {
     "name": "stdout",
     "output_type": "stream",
     "text": [
      "Mean is:  3.7775\n",
      "Standard Deviation:  1.2146362764746714\n"
     ]
    },
    {
     "data": {
      "text/plain": [
       "'According to Six sigma rule also known as the empirical rule or 68-95-99.7 rule. \\n68% of your observations will fall between one standard deviation of the mean. \\n95% will fall within two, and 99.7% will fall within three.'"
      ]
     },
     "execution_count": 73,
     "metadata": {},
     "output_type": "execute_result"
    }
   ],
   "source": [
    "# basic statistics - mean, Standard deviation\n",
    "# mean of rating (stars)\n",
    "print(\"Mean is: \", df['stars'].mean())\n",
    "\n",
    "# standard deviation. \n",
    "print(\"Standard Deviation: \", df['stars'].std())\n",
    "\n",
    "\"\"\"According to Six sigma rule also known as the empirical rule or 68-95-99.7 rule. \n",
    "68% of your observations will fall between one standard deviation of the mean. \n",
    "95% will fall within two, and 99.7% will fall within three.\"\"\""
   ]
  },
  {
   "cell_type": "markdown",
   "metadata": {},
   "source": [
    "**Visualization**"
   ]
  },
  {
   "cell_type": "code",
   "execution_count": 53,
   "metadata": {},
   "outputs": [
    {
     "data": {
      "text/plain": [
       "<matplotlib.axes._subplots.AxesSubplot at 0xbd39f8ee10>"
      ]
     },
     "execution_count": 53,
     "metadata": {},
     "output_type": "execute_result"
    },
    {
     "data": {
      "image/png": "[encoded data removed]",
      "text/plain": [
       "<Figure size 432x288 with 1 Axes>"
      ]
     },
     "metadata": {},
     "output_type": "display_data"
    }
   ],
   "source": [
    " # Box plot \n",
    "sns.boxplot(x='stars', y='Review Len', data=df)\n"
   ]
  },
  {
   "cell_type": "code",
   "execution_count": 54,
   "metadata": {},
   "outputs": [
    {
     "data": {
      "text/plain": [
       "<seaborn.axisgrid.FacetGrid at 0xbd4184e550>"
      ]
     },
     "execution_count": 54,
     "metadata": {},
     "output_type": "execute_result"
    },
    {
     "data": {
      "image/png": "[encoded data removed]",
      "text/plain": [
       "<Figure size 1080x216 with 5 Axes>"
      ]
     },
     "metadata": {},
     "output_type": "display_data"
    }
   ],
   "source": [
    "#Visualization will help to know how features values are correlated to each other.\n",
    "\n",
    "# Relation between review length and star rating. Histogram will be helpful.\n",
    "\n",
    "Graph = sns.FacetGrid(data=df, col='stars')\n",
    "Graph.map(plt.hist, 'Review Len', bins=40) # Text length is somewhat similar across all stars."
   ]
  },
  {
   "cell_type": "code",
   "execution_count": 55,
   "metadata": {},
   "outputs": [
    {
     "data": {
      "text/plain": [
       "<matplotlib.axes._subplots.AxesSubplot at 0xbd41a3add8>"
      ]
     },
     "execution_count": 55,
     "metadata": {},
     "output_type": "execute_result"
    },
    {
     "data": {
      "image/png": "[encoded data removed]",
      "text/plain": [
       "<Figure size 432x288 with 2 Axes>"
      ]
     },
     "metadata": {},
     "output_type": "display_data"
    }
   ],
   "source": [
    "# Now We will find if there's any correlation between useful, funny, and cool. Heatmap are useful for this task.\n",
    "stars = df.groupby('stars').mean()\n",
    "stars.corr()\n",
    "\n",
    "sns.heatmap(data=stars.corr(), annot=True) \n",
    "\n",
    "# From heatmap. We can say. There is negative correlation between (cool and useful), (cool and funny), (cool and Review len)\n",
    "# Positive realtion. (Funny and useful), (Review len & Funny), (Review len & Useful)\n"
   ]
  },
  {
   "cell_type": "code",
   "execution_count": 56,
   "metadata": {},
   "outputs": [
    {
     "data": {
      "text/plain": [
       "4    3526\n",
       "5    3337\n",
       "3    1461\n",
       "2     927\n",
       "1     749\n",
       "Name: stars, dtype: int64"
      ]
     },
     "execution_count": 56,
     "metadata": {},
     "output_type": "execute_result"
    },
    {
     "data": {
      "image/png": "[encoded data removed]",
      "text/plain": [
       "<Figure size 432x288 with 1 Axes>"
      ]
     },
     "metadata": {},
     "output_type": "display_data"
    }
   ],
   "source": [
    "# Total count of stars in dataset \n",
    "df['stars'].unique()\n",
    "df['stars'].hist()\n",
    "\n",
    "# Total number of count of rating 1, 2, 3, 4 and 5 \n",
    "\n",
    "df['stars'].value_counts() # Lowest number total count is for  rating 1."
   ]
  },
  {
   "cell_type": "markdown",
   "metadata": {},
   "source": []
  },
  {
   "cell_type": "code",
   "execution_count": 57,
   "metadata": {},
   "outputs": [
    {
     "name": "stdout",
     "output_type": "stream",
     "text": [
      "Shape of dataset:  (5547, 11)\n",
      "                 business_id        date               review_id  stars  \\\n",
      "0     9yKzy9PApeiPPOUJEtnvkg  26-01-2011  fWKvX83p0-ka4JS3dc6E5A      5   \n",
      "1     ZRJwVLyzEJq1VAihDhYiow  27-07-2011  IjZ33sJrzXqU-0X6U8NwyA      5   \n",
      "3     _1QQZuf4zZOyFCvXc0o6Vg  27-05-2010  G-WvGaISbqqaMHlNnByodA      5   \n",
      "4     6ozycU1RpktNG2-1BroVtw  05-01-2012  1uJFq2r5QfJG_6ExMRCaGw      5   \n",
      "6     zp713qNhx8d9KCJJnrw1xA  12-02-2010  riFQ3vxNpP4rWLk_CSri2A      5   \n",
      "9     nMHhuYan8e3cONo3PornJA  11-08-2010  jJAIXA46pU1swYyRCdfXtQ      5   \n",
      "10    AsSCv0q_BWqIe3mX2JqsOQ  16-06-2010  E11jzpKz9Kw5K7fuARWfRw      5   \n",
      "11    e9nN4XxjdHj4qtKCOPq_vg  21-10-2011  3rPt0LxF7rgmEUrznoH22w      5   \n",
      "12    h53YuCiIDfEFSJCQpk8v1g  11-01-2010  cGnKNX3I9rthE0-TH24-qA      5   \n",
      "16    supigcPNO9IKo6olaTNV-g  12-10-2008  HXP_0Ul-FCmA4f-k9CqvaQ      3   \n",
      "17    O510Re68mOy9dU490JTKCg  03-05-2010  j4SIzrIy0WrmW4yr4--Khg      5   \n",
      "18    b5cEoKR8iQliq-yT2_O0LQ  06-03-2009  v0cTd3PNpYCkTyGKSpOfGA      3   \n",
      "20    8FNO4D3eozpIjj0k3q5Zbg  08-10-2008  MuqugTuR5DdIPcZ2IVP3aQ      3   \n",
      "21    tdcjXyFLMKAsvRhURNOkCg  28-06-2011  LmuKVFh03Uz318VKnUWrxA      5   \n",
      "22    eFA9dqXT5EA_TrMgbo03QQ  13-07-2011  CQYc8hgKxV4enApDkx0IhA      5   \n",
      "23    IJ0o6b8bJFAbG6MjGfBebQ  05-09-2010  Dx9sfFU6Zn0GYOckijom-g      1   \n",
      "24    JhupPnWfNlMJivnWB5druA  22-05-2011  cFtQnKzn2VDpBedy_TxlvA      5   \n",
      "26    qjmCVYkwP-HDa35jwYucbQ  03-01-2013  kZ4TzrVX6qeF0OvrVTGVEw      5   \n",
      "30    V1nEpIRmEa1768oj_tuxeQ  09-05-2011  dtpJXC5p_sdWDLSobluJ3Q      5   \n",
      "31    vvA3fbps4F9nGlAEYKk_sA  04-05-2012  S9OVpXat8k5YwWCn6FAgXg      1   \n",
      "32    rxQ2PIjhAx6dgAqUalf99Q  09-09-2012                  #NAME?      5   \n",
      "34    3oLy0rlzRI_xiqfQHqC4_g  27-03-2011  Bk7F8IyBuOHVp6w3BAKVow      3   \n",
      "35    o1GIYYZJjM6nM03fQs_uEQ  30-11-2011  ApKbwpYJdnhhgP4NbjQw2Q      1   \n",
      "45    qB-qsaSnhbHCt18_AN4Quw  21-12-2011  1FvrC35rTJ6BWFvRog7tuA      3   \n",
      "46    aRkYtXfmEKYG-eTDf_qUsw  04-04-2009  Ckk1Cne1GHwzmJfo7M4r2w      5   \n",
      "47    JuBygU4XDjqSeW9okyvbsQ  25-09-2010  bu9S6tFKuTrMcNxQaQYMQA      3   \n",
      "51    zp713qNhx8d9KCJJnrw1xA  01-02-2010  Bmt1QRDT0GfyXkhOvj_BfQ      5   \n",
      "54    K8pM6qQdYu5h6buRE1-_sw  06-08-2009  GOconNmWgg6cJbgwSwrozw      5   \n",
      "59    E6DnUFy3GoN4DxTqturtug  28-09-2010  nzSOTOZiAb1ITqbRgWKnnQ      5   \n",
      "61    l4vBbCL9QbGiwLuLKwD_bA  22-11-2011  DJVxOfj2Rw9zklC9tU3i1w      1   \n",
      "...                      ...         ...                     ...    ...   \n",
      "9957  62F17L8z4Q4S7U_TayuDBA  13-03-2010  oTm0bBYcbgoMPJloZUpUwQ      5   \n",
      "9958  4FBHwaMtMQ_x8RQoI2T-jw  01-02-2012  c4hS0F6S-Z42yOTbm3rptQ      3   \n",
      "9959  uEJQSIjWui-TDWXaGlcqyQ  01-09-2010  -2oWwvRjNEHNDa4TWVlbAA      5   \n",
      "9961  seu8O6yPQ5Yz8kQv-KFnKQ  27-03-2007  0HFGMJP6omYRFLiFt4pW3Q      3   \n",
      "9964  oWb5JjxoPaFSmpGwJ3-Ntg  31-08-2011  2LvAos4wAPJynDsdl8dRUg      3   \n",
      "9965  L9UYbtAUOcfTgZFimehlXw  31-07-2009  F9KzEFjAtbWr3h8toNtDgw      5   \n",
      "9966  ttpZx2t4fMAApdU9MFG91w  20-07-2012  rR322HOBSV2JSY6omtNoPw      5   \n",
      "9967  qNqvJIH4_KENAajUfRZKoA  29-10-2012  UoxTfwbLylXWpwrn8tYEeQ      3   \n",
      "9968  HIiVx2mseVWKtx8TKfWC_A  07-06-2010  TrFMPwWeaCWu8yDVWVkYwA      3   \n",
      "9969  qhIlkXgcC4j34lNTIqu9WA  16-03-2011  qu7tpZFxaPSxiuIgFiiYlQ      5   \n",
      "9970  R6aazv8FB-6BeanY3ag8kw  26-09-2009  gP17ykqduf3AlewSaRb61w      5   \n",
      "9971  JOZqBKIOB8WEBAWm7v1JFA  22-07-2008  QI9rfeWrZnvK5ojz8cEoRg      5   \n",
      "9973  XHr5mXFgobOHoxbPJxmYdg  28-09-2009  udMiWjeG0OGcb4nNddDkBg      5   \n",
      "9975  EWMwV5V9BxNs_U6nNVMeqw  20-10-2007  g4LsVAoafmUDHiS-_yN4tA      5   \n",
      "9976  iDYzGVIF1TDWdjHNgNjCVw  11-09-2009  bKjMcpNj0xSu2UI2EFQn1g      3   \n",
      "9977  iDYzGVIF1TDWdjHNgNjCVw  30-10-2012  qaNZyCUJA6Yp0mvPBCknPQ      5   \n",
      "9978  9Y3aQAVITkEJYe5vLZr13w  01-04-2010  ZoTUU6EJ1OBNr7mhqxHBLw      5   \n",
      "9979  GV1P1x9eRb4iZHCxj5_IjA  07-12-2012  eVUs1C4yaVJNrc7SGTAheg      5   \n",
      "9980  GHYOl_cnERMOhkCK_mGAlA  03-07-2011  Q-y3jSqccdytKxAyo1J0Xg      5   \n",
      "9981  AX8lx9wHNYT45lyd7pxaYw  27-11-2008  IyunTh7jnG7v3EYwfF3hPw      5   \n",
      "9983  24V8QQWO6VaVggHdxjQQ_A  06-06-2010  PqiIeFOiVr-tj_FtHGAH2g      3   \n",
      "9984  wepFVY82q_tuDzG6lQjHWw  12-02-2012  spusZYROtBKw_5tv3gYm4Q      1   \n",
      "9987  r-a-Cn9hxdEnYTtVTB5bMQ  07-04-2012  j9HwZZoBBmJgOlqDSuJcxg      1   \n",
      "9989  mQUC-ATrFuMQSaDQb93Pug  01-10-2011  ta2P9joJqeFB8BzFp-AzjA      5   \n",
      "9990  R8VwdLyvsp9iybNqRvm94g  03-10-2011  pcEeHdAJPoFNF23es0kKWg      5   \n",
      "9991  WJ5mq4EiWYAA4Vif0xDfdg  05-12-2011  EuHX-39FR7tyyG1ElvN1Jw      5   \n",
      "9992  f96lWMIAUhYIYy9gOktivQ  10-03-2009  YF17z7HWlMj6aezZc-pVEw      5   \n",
      "9994  L3BSpFvxcNf3T_teitgt6A  19-03-2012  0nxb1gIGFgk3WbC5zwhKZg      5   \n",
      "9995  VY_tvNUCCXGXQeSvJl757Q  28-07-2012  Ubyfp2RSDYW0g7Mbr8N3iA      3   \n",
      "9999  pF7uRzygyZsltbmVpjIyvw  16-10-2010  vWSmOhg2ID1MNZHaWapGbA      5   \n",
      "\n",
      "                                                   text    type  \\\n",
      "0     My wife took me here on my birthday for breakf...  review   \n",
      "1     I have no idea why some people give bad review...  review   \n",
      "3     Rosie, Dakota, and I LOVE Chaparral Dog Park!!...  review   \n",
      "4     General Manager Scott Petello is a good egg!!!...  review   \n",
      "6     Drop what you're doing and drive here. After I...  review   \n",
      "9     Nobuo shows his unique talents with everything...  review   \n",
      "10    The oldish man who owns the store is as sweet ...  review   \n",
      "11    Wonderful Vietnamese sandwich shoppe. Their ba...  review   \n",
      "12    They have a limited time thing going on right ...  review   \n",
      "16    We went here on a Saturday afternoon and this ...  review   \n",
      "17    okay this is the best place EVER! i grew up sh...  review   \n",
      "18    I met a friend for lunch yesterday. \\n\\nLoved ...  review   \n",
      "20    DVAP....\\n\\nYou have to go at least once in yo...  review   \n",
      "21    This place shouldn't even be reviewed - becaus...  review   \n",
      "22    first time my friend and I went there... it wa...  review   \n",
      "23    U can go there n check the car out. If u wanna...  review   \n",
      "24    I love this place! I have been coming here for...  review   \n",
      "26    I love love LOVE this place. My boss (who is i...  review   \n",
      "30    Disclaimer: Like many of you, I am a sucker fo...  review   \n",
      "31    Disgusting!  Had a Groupon so my daughter and ...  review   \n",
      "32    Never having dealt with a Discount Tire in Pho...  review   \n",
      "34    There's two ways to look at this place. One is...  review   \n",
      "35    I've eaten here many times, but none as bad as...  review   \n",
      "45    Everything was nice. The ice cream was delicio...  review   \n",
      "46    (Un)fortunately for me, lux is close to my hou...  review   \n",
      "47    After watching her win on Cupcake Wars I was d...  review   \n",
      "51    Fred M. pretty much said what I would say, so ...  review   \n",
      "54    Alright, I have been away from Yelp for quite ...  review   \n",
      "59    This restaurant is incredible, and has the bes...  review   \n",
      "61    I have always been a fan of Burlington's deals...  review   \n",
      "...                                                 ...     ...   \n",
      "9957  Standard Mexican fare - but quite delicious.  ...  review   \n",
      "9958  Taco Bell/Pizza Hut combo on Dobson and Southe...  review   \n",
      "9959  My profile says....\\n\\nMy Last Meal On Earth: ...  review   \n",
      "9961  I can understand why everyone loves this place...  review   \n",
      "9964  In a hurry in the Phoenix airport and saw Blue...  review   \n",
      "9965  Treats: We tried the cookies (chocolate chip a...  review   \n",
      "9966  I first joined 24 hr fitness about a year ago,...  review   \n",
      "9967  I thought I had reviewed this location already...  review   \n",
      "9968  I have never been here before so I didn't know...  review   \n",
      "9969  Leah, the trainer, at Dog House Training Acade...  review   \n",
      "9970  This place is super cute lunch joint.  I had t...  review   \n",
      "9971  The staff is great, the food is great, even th...  review   \n",
      "9973  Wow!  Went on a Sunday around 11am - busy but ...  review   \n",
      "9975  When I lived in Phoenix, I was a regular at Fe...  review   \n",
      "9976  I was looking for chile rellenos and this plac...  review   \n",
      "9977  Why did I wait so long to try this neighborhoo...  review   \n",
      "9978  This is the place for a fabulos breakfast!! I ...  review   \n",
      "9979  Highly recommend. This is my second time here ...  review   \n",
      "9980  5 stars for the great $5 happy hour specials. ...  review   \n",
      "9981  We brought the entire family to Giuseppe's las...  review   \n",
      "9983  3.5 stars. \\n\\nWe decided to check this place ...  review   \n",
      "9984  Went last night to Whore Foods to get basics t...  review   \n",
      "9987  The food is delicious.  The service:  discrimi...  review   \n",
      "9989  Great food and service! Country food at its best!  review   \n",
      "9990  Yes I do rock the hipster joints.  I dig this ...  review   \n",
      "9991  Only 4 stars? \\n\\n(A few notes: The folks that...  review   \n",
      "9992  I'm not normally one to jump at reviewing a ch...  review   \n",
      "9994  Let's see...what is there NOT to like about Su...  review   \n",
      "9995  First visit...Had lunch here today - used my G...  review   \n",
      "9999  4-5 locations.. all 4.5 star average.. I think...  review   \n",
      "\n",
      "                     user_id  cool  useful  funny  Review Len  \n",
      "0     rLtl8ZkDX5vH5nAx9C3q5Q     2       5      0         889  \n",
      "1     0a2KyEL0d3Yb1V6aivbIuQ     0       0      0        1345  \n",
      "3     uZetl9T0NcROGOyFfughhg     1       2      0         419  \n",
      "4     vYmM4KTsC8ZfQBg-j5MWkw     0       0      0         469  \n",
      "6     wFweIWhv2fREZV_dYkz_1g     7       7      4        1565  \n",
      "9     sUNkXg8-KFtCMQDV6zRzQg     0       1      0         186  \n",
      "10                    #NAME?     1       3      1         298  \n",
      "11    C1rHp3dmepNea7XiouwB6Q     1       1      0         321  \n",
      "12    UPtysDF6cUDUxq2KY-6Dcg     1       2      0         433  \n",
      "16    SBbftLzfYYKItOMFwOTIJg     3       4      2        1469  \n",
      "17    u1KWcbPMvXFEEYkZZ0Yktg     0       0      0         363  \n",
      "18    UsULgP4bKA8RMzs8dQzcsA     5       6      4        1161  \n",
      "20    C6IOtaaYdLIT5fWd7ZYIuA     2       4      1         565  \n",
      "21    YN3ZLOdg8kpnfbVcIhuEZA     1       1      2         104  \n",
      "22    6lg55RIP23VhjYEBXJ8Njw     0       0      0         148  \n",
      "23    zRlQEDYd_HKp0VS3hnAffA     0       1      1         594  \n",
      "24    13xj6FSvYO0rZVRv5XZp4w     0       1      0         294  \n",
      "26    fpItLlgimq0nRltWOkuJJw     0       0      0         921  \n",
      "30    bCKjygWJZOQHCOzootbvow     0       2      0         801  \n",
      "31    8AMn6644NmBf96xGO3w6OA     0       1      0         361  \n",
      "32    HLbhD2OyiMCUDRR4c1iXaw     0       0      0        1734  \n",
      "34    1guJDgUfTiDdbgKqBhsZFQ     1       3      1         610  \n",
      "35    iwUN95LIaEr75TZE_JC6bg     0       4      3        1198  \n",
      "45    66PQJEHC0tCWGMI4V9KT-Q     0       0      0         243  \n",
      "46    IUWjTmXc3wLVaMHz33inaA     2       1      1         194  \n",
      "47    1MyXsAhZK35A6EAr4reLCA     0       1      1         505  \n",
      "51    aqqbh1NZoFk48kp0eqSLdg     3       2      1         197  \n",
      "54    yy1SbjeyWiAhWfSr5d0new     2       3      3        1139  \n",
      "59    U3uT-Phb8iL2iuZpAROZlg     0       0      0         757  \n",
      "61    EPROVap0M19Y6_4uf3eCmQ     0       0      0         569  \n",
      "...                      ...   ...     ...    ...         ...  \n",
      "9957  TnTkd3MKoIOKqrsPDzhiog     0       0      0         118  \n",
      "9958  LX3cTVaS8f2UF0Uuafsfug     1       0      1         350  \n",
      "9959  EDN_wou8EEkuaj5Pd83cQA     2       2      1         754  \n",
      "9961  lC4X2crUuxT9Ac9BlOX4Uw     3       4      3         524  \n",
      "9964  8DBCh1ykGdM71X25KNXiZg     0       1      0         507  \n",
      "9965  2lvfBteL5ny4CBjNIk9Mwg     0       0      0         648  \n",
      "9966  iPnpD62l5LUL7WXaI3SJFA     0       0      1         962  \n",
      "9967  VPXgY9lGJF3XC4ZpusxNuA     1       1      1         392  \n",
      "9968  rLtl8ZkDX5vH5nAx9C3q5Q     0       2      1        1799  \n",
      "9969  RKxsZo6XkRU-0y1JgqqsBA     1       1      0         938  \n",
      "9970  mtoKqaQjGPWEc5YZbrYV9w     0       0      0         432  \n",
      "9971  uBAMd01ZtGXaHrRD6THNzg     1       2      1         318  \n",
      "9973  yRYNx24kUDRRBfJu1Rcojg     0       0      0         353  \n",
      "9975  TLj3XaclA7V4ldJ5yNP-9Q     1       1      0        1015  \n",
      "9976  2tUCLMHQKz4kA1VlRB_w0Q     0       0      0         465  \n",
      "9977  Id-8-NMEKxeXBR44eUdDeA     3       6      3        2918  \n",
      "9978  vasHsAZEgLZGJDTlIweUYQ     0       1      0         493  \n",
      "9979  bJFdmJJxfXgCYA5DMmyeqQ     2       2      1         244  \n",
      "9980  xZvRLPJ1ixhFVomkXSfXAw     6       6      4         393  \n",
      "9981  fczQCSmaWF78toLEmb0Zsw    10       9      5         885  \n",
      "9983  LaEj3VpQh7bgpAZLzSRRrw     1       4      1         861  \n",
      "9984  W7zmm1uzlyUkEqpSG7PlBw     0       1      2        1673  \n",
      "9987  toPtsUtYoRB-5-ThrOy2Fg     0       0      0         200  \n",
      "9989  fKaO8fR1IAcfvZb6cBrs2w     0       1      0          49  \n",
      "9990  b92Y3tyWTQQZ5FLifex62Q     1       1      1         263  \n",
      "9991  hTau-iNZFwoNsPCaiIUTEA     1       1      0         908  \n",
      "9992  W_QXYA7A0IhMrvbckz7eVg     2       3      2        1326  \n",
      "9994  OzOZv-Knlw3oz9K5Kh5S6A     1       2      1        1968  \n",
      "9995  _eqQoPtQ3e3UxLE4faT6ow     1       2      0         668  \n",
      "9999  KSBFytcdjPKZgXKQnYQdkA     0       0      0         461  \n",
      "\n",
      "[5547 rows x 11 columns]\n"
     ]
    }
   ],
   "source": [
    "# Select only rating with 1, 3, and 5.\n",
    "\n",
    "df_class = df[(df['stars']==1) | (df['stars']==3) | (df['stars']==5)]\n",
    "# df_class = df # accuracy was low with whole dataset\n",
    "df_class.head()\n",
    "print(\"Shape of dataset: \", df_class.shape) # only include row with rating 1, 3, and 5.\n",
    "\n",
    "print(df_class)"
   ]
  },
  {
   "cell_type": "code",
   "execution_count": 58,
   "metadata": {},
   "outputs": [],
   "source": [
    "# seperate dataset.  X is input and y is output.\n",
    "x = df_class['text']\n",
    "y = df_class['stars']\n",
    "# print(x.head())\n",
    "# print(y.head())"
   ]
  },
  {
   "cell_type": "markdown",
   "metadata": {},
   "source": [
    "**Preprocessing of data**"
   ]
  },
  {
   "cell_type": "code",
   "execution_count": 59,
   "metadata": {},
   "outputs": [],
   "source": [
    "# library to import stop-word in English\n",
    "from sklearn.feature_extraction import stop_words\n",
    " \n",
    "# print(stop_words.ENGLISH_STOP_WORDS)"
   ]
  },
  {
   "cell_type": "code",
   "execution_count": 60,
   "metadata": {},
   "outputs": [],
   "source": [
    "# remove punctuation and stop-word.\n",
    "import string\n",
    "def text_preprocess(text):\n",
    "    nopunc = [char for char in text if char not in string.punctuation]\n",
    "    nopunc = ''.join(nopunc)\n",
    "    \n",
    "    # remove stop-words from text\n",
    "    return [word for word in nopunc.split() if word.lower() not in stopwords.words('english')]"
   ]
  },
  {
   "cell_type": "code",
   "execution_count": 61,
   "metadata": {},
   "outputs": [],
   "source": [
    "# Vectorization of text\n",
    "\"\"\"convert review into vector form\"\"\"\n",
    "\n",
    "bow_transformer = CountVectorizer(analyzer=text_preprocess).fit(x)\n",
    "# len(bow_transformer.vocabulary_)"
   ]
  },
  {
   "cell_type": "code",
   "execution_count": 62,
   "metadata": {},
   "outputs": [
    {
     "name": "stdout",
     "output_type": "stream",
     "text": [
      "Sparse Matrix Shape:  (5547, 31335)\n",
      "Amount of Non-Zero occurrences:  312451\n"
     ]
    }
   ],
   "source": [
    "x = bow_transformer.transform(x)\n",
    "\n",
    "print('Sparse Matrix Shape: ', x.shape)\n",
    "print('Amount of Non-Zero occurrences: ', x.nnz)\n"
   ]
  },
  {
   "cell_type": "markdown",
   "metadata": {},
   "source": [
    "**Training and test. Split dataset into two part- training and testing**"
   ]
  },
  {
   "cell_type": "code",
   "execution_count": 63,
   "metadata": {},
   "outputs": [],
   "source": [
    "# skleran for splitting dataset\n",
    "from sklearn.model_selection import train_test_split\n",
    "\n",
    "# sklearn function to split dataset into train, and test.\n",
    "x_train, x_test, y_train, y_test = train_test_split(x, y, test_size=0.3, random_state=101)\n",
    "\n"
   ]
  },
  {
   "cell_type": "markdown",
   "metadata": {},
   "source": [
    "**Check performance of various Machine learning algorithm**"
   ]
  },
  {
   "cell_type": "code",
   "execution_count": 64,
   "metadata": {},
   "outputs": [
    {
     "name": "stdout",
     "output_type": "stream",
     "text": [
      "Confusion Matrix:\n",
      " [[138  50  55]\n",
      " [ 26 273 143]\n",
      " [ 20  71 889]]\n",
      "\n",
      "\n",
      "Accuracy is  78.08 %\n",
      "Classification report: \n",
      "             precision    recall  f1-score   support\n",
      "\n",
      "          1       0.75      0.57      0.65       243\n",
      "          3       0.69      0.62      0.65       442\n",
      "          5       0.82      0.91      0.86       980\n",
      "\n",
      "avg / total       0.77      0.78      0.77      1665\n",
      "\n",
      "Precision:  0.7807807807807807\n",
      "recall:  0.7807807807807807\n"
     ]
    }
   ],
   "source": [
    "# Logistic Regression\n",
    "\n",
    "# import necessary library\n",
    "\n",
    "from sklearn.metrics import accuracy_score\n",
    "from sklearn.metrics import precision_score\n",
    "from sklearn import linear_model\n",
    "\n",
    "# Fitting Logistic Regression to the Training set\n",
    "classifier = linear_model.LogisticRegression(C=1.5)\n",
    "classifier.fit(x_train, y_train)\n",
    "\n",
    "# test data - prediction\n",
    "y_pred = classifier.predict(x_test)\n",
    "\n",
    "# Confusion Matrix\n",
    "from sklearn.metrics import confusion_matrix\n",
    "cm = confusion_matrix(y_test, y_pred)\n",
    "print (\"Confusion Matrix:\\n\",cm)\n",
    "\n",
    "# Calculating Accuracy, Precision \n",
    "score_lr = accuracy_score(y_test,y_pred)\n",
    "print(\"\\n\")\n",
    "print(\"Accuracy is \", round(score_lr*100, 2),\"%\")\n",
    "print(\"Classification report: \")\n",
    "print(classification_report(y_test, y_pred))\n",
    "\n",
    "# calculate recall and precision\n",
    "precision = precision_score(y_test, y_pred, average='micro')\n",
    "recall = recall_score(y_test, y_pred, average='micro')\n",
    "\n",
    "print(\"Precision: \", precision) # precision = true positive / true positive + false positive\n",
    "print(\"recall: \", recall) # recall = True positive / True positive + False Negative"
   ]
  },
  {
   "cell_type": "code",
   "execution_count": 65,
   "metadata": {},
   "outputs": [
    {
     "name": "stdout",
     "output_type": "stream",
     "text": [
      "Confusion Matrix for MNB:\n",
      "[[ 92  85  66]\n",
      " [ 10 233 199]\n",
      " [ 11  58 911]]\n",
      "Score: 74.23\n",
      "C              precision    recall  f1-score   support\n",
      "\n",
      "          1       0.81      0.38      0.52       243\n",
      "          3       0.62      0.53      0.57       442\n",
      "          5       0.77      0.93      0.85       980\n",
      "\n",
      "avg / total       0.74      0.74      0.72      1665\n",
      "\n",
      "Precision:  0.7423423423423423\n",
      "recall:  0.7423423423423423\n"
     ]
    }
   ],
   "source": [
    "# Using MNB(Multinomial Naive Bayes)\n",
    "from sklearn.naive_bayes import MultinomialNB\n",
    "mnb = MultinomialNB()\n",
    "mnb.fit(x_train,y_train)\n",
    "predmnb = mnb.predict(x_test)\n",
    "print(\"Confusion Matrix for MNB:\")\n",
    "print(confusion_matrix(y_test,predmnb))\n",
    "print(\"Score:\", round(accuracy_score(y_test,predmnb)*100,2))\n",
    "print(\"C\", classification_report(y_test, predmnb))\n",
    "\n",
    "\n",
    "# calculate recall and precision\n",
    "precision = precision_score(y_test, predmnb, average='micro')\n",
    "recall = recall_score(y_test, predmnb, average='micro')\n",
    "\n",
    "print(\"Precision: \", precision) # precision = true positive / true positive + false positive\n",
    "print(\"recall: \", recall) # recall = True positive / True positive + False Negative"
   ]
  },
  {
   "cell_type": "code",
   "execution_count": 66,
   "metadata": {},
   "outputs": [
    {
     "name": "stdout",
     "output_type": "stream",
     "text": [
      "K neighbor confusion matrix:\n",
      "[[ 21  11 211]\n",
      " [ 17  34 391]\n",
      " [ 15  10 955]]\n",
      "Score:  60.66\n",
      "Classification:\n",
      "             precision    recall  f1-score   support\n",
      "\n",
      "          1       0.40      0.09      0.14       243\n",
      "          3       0.62      0.08      0.14       442\n",
      "          5       0.61      0.97      0.75       980\n",
      "\n",
      "avg / total       0.58      0.61      0.50      1665\n",
      "\n",
      "\n",
      "\n",
      "Accuracy is  60.66 %\n",
      "Precision:  0.6066066066066066\n",
      "recall:  0.6066066066066066\n"
     ]
    }
   ],
   "source": [
    "# Knn. K nearest neighbour\n",
    "\n",
    "# import library for accuracy, recall and precision\n",
    "from sklearn.metrics import accuracy_score\n",
    "from sklearn.metrics import precision_score\n",
    "from sklearn.metrics import recall_score\n",
    "\n",
    "# K Nearest Neighbour Algorithm\n",
    "from sklearn.neighbors import KNeighborsClassifier\n",
    "knn = KNeighborsClassifier(n_neighbors=10)\n",
    "knn.fit(x_train,y_train)\n",
    "\n",
    "# prediction on test data\n",
    "pr_knn = knn.predict(x_test)\n",
    "print(\"K neighbor confusion matrix:\")\n",
    "print(confusion_matrix(y_test, pr_knn))\n",
    "print(\"Score: \", round(accuracy_score(y_test, pr_knn)*100,2))\n",
    "print(\"Classification:\")\n",
    "print(classification_report(y_test, pr_knn))\n",
    "\n",
    "# accuracy\n",
    "score = accuracy_score(y_test, pr_knn)\n",
    "print(\"\\n\")\n",
    "print(\"Accuracy is \", round(score*100, 2),\"%\")\n",
    "\n",
    "# calculate recall and precision\n",
    "precision = precision_score(y_test, pr_knn, average='micro')\n",
    "recall = recall_score(y_test, pr_knn, average='micro')\n",
    "\n",
    "print(\"Precision: \", precision) # precision = true positive / true positive + false positive\n",
    "print(\"recall: \", recall) # recall = True positive / True positive + False Negative"
   ]
  },
  {
   "cell_type": "code",
   "execution_count": 67,
   "metadata": {},
   "outputs": [
    {
     "name": "stdout",
     "output_type": "stream",
     "text": [
      "Confusion Matrix:\n",
      "[[141  55  47]\n",
      " [ 28 281 133]\n",
      " [ 18  79 883]]\n",
      "Score is:  78.38\n",
      "Classification Report:\n",
      "             precision    recall  f1-score   support\n",
      "\n",
      "          1       0.75      0.58      0.66       243\n",
      "          3       0.68      0.64      0.66       442\n",
      "          5       0.83      0.90      0.86       980\n",
      "\n",
      "avg / total       0.78      0.78      0.78      1665\n",
      "\n",
      "Precision:  0.7837837837837838\n",
      "recall:  0.7837837837837838\n"
     ]
    }
   ],
   "source": [
    "# # MULTILAYER PERCEPTRON CLASSIFIER\n",
    "# import MLP library from sklearn\n",
    "from sklearn.neural_network import MLPClassifier\n",
    "# import library for f1-score\n",
    "from sklearn.metrics import f1_score\n",
    "\n",
    "mlp = MLPClassifier()\n",
    "mlp.fit(x_train, y_train)\n",
    "\n",
    "# predict on test data\n",
    "pr_mlp = mlp.predict(x_test)\n",
    "print(\"Confusion Matrix:\")\n",
    "# create confusion matrix which is true positive, true negative, false positive, false negative \n",
    "print(confusion_matrix(y_test, pr_mlp))\n",
    "score = round(accuracy_score(y_test,pr_mlp)*100,2)\n",
    "print(\"Score is: \", score)\n",
    "print(\"Classification Report:\")\n",
    "print(classification_report(y_test, pr_mlp))\n",
    "\n",
    "# calculate recall and precision\n",
    "precision = precision_score(y_test, pr_mlp, average='micro')\n",
    "recall = recall_score(y_test, pr_mlp, average='micro')\n",
    "\n",
    "print(\"Precision: \", precision) # precision = true positive / true positive + false positive\n",
    "print(\"recall: \", recall) # recall = True positive / True positive + False Negative"
   ]
  },
  {
   "cell_type": "markdown",
   "metadata": {},
   "source": [
    "**Check ML model**"
   ]
  },
  {
   "cell_type": "markdown",
   "metadata": {},
   "source": [
    "##Performance of Machine learning algorithm\n",
    "###1) Logistic Regression:\n",
    "    Accuracy - 78.08\n",
    "    Precision - 0.78\n",
    "###2) Multinomial Naive Bayes (MNB)\n",
    "    Accuracy - 74.23\n",
    "    Precision - 0.74\n",
    "###3) K nearest Neighbour Algorithn\n",
    "    Accuracy - 60.66\n",
    "    Precision - 0.60\n",
    "###4) Multilayer Perceptron Classifier\n",
    "    Accuracy - 78.38\n",
    "    Precision - 0.78"
   ]
  },
  {
   "cell_type": "code",
   "execution_count": 68,
   "metadata": {},
   "outputs": [
    {
     "name": "stdout",
     "output_type": "stream",
     "text": [
      "My wife took me here on my birthday for breakfast and it was excellent.  The weather was perfect whi\n",
      "Actual Rating:  5\n",
      "Predicted Rating:  5\n"
     ]
    }
   ],
   "source": [
    "# POSITIVE REVIEW\n",
    "pr = df['text'][0]\n",
    "print(pr[:100])\n",
    "print(\"Actual Rating: \", df['stars'][0])\n",
    "pr_t = bow_transformer.transform([pr])\n",
    "print(\"Predicted Rating: \", mlp.predict(pr_t)[0])"
   ]
  },
  {
   "cell_type": "markdown",
   "metadata": {},
   "source": [
    "NOTE: MLflow integrated in python script of this notebook"
   ]
  },
  {
   "cell_type": "code",
   "execution_count": null,
   "metadata": {},
   "outputs": [],
   "source": []
  }
 ],
 "metadata": {
  "kernelspec": {
   "display_name": "Python 3",
   "language": "python",
   "name": "python3"
  },
  "language_info": {
   "codemirror_mode": {
    "name": "ipython",
    "version": 3
   },
   "file_extension": ".py",
   "mimetype": "text/x-python",
   "name": "python",
   "nbconvert_exporter": "python",
   "pygments_lexer": "ipython3",
   "version": "3.6.5"
  }
 },
 "nbformat": 4,
 "nbformat_minor": 2
}
